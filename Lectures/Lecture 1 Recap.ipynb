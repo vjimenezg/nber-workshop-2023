{
 "cells": [
  {
   "cell_type": "markdown",
   "id": "cd0b0423",
   "metadata": {
    "slideshow": {
     "slide_type": "slide"
    }
   },
   "source": [
    "# Recap of lecture on the standard incomplete markets model steady state\n",
    "\n",
    "NBER Heterogeneous-Agent Macro Workshop\n",
    "\n",
    "Matthew Rognlie\n",
    "\n",
    "Spring 2023"
   ]
  },
  {
   "cell_type": "markdown",
   "id": "e62fc007",
   "metadata": {
    "slideshow": {
     "slide_type": "slide"
    }
   },
   "source": [
    "# Standard incomplete markets model\n",
    "- Come in with assets including return $(1+r)a$ and stochastic income $y(e)$\n",
    "- Allocate to assets for tomorrow $a'$ and consumption today $c$\n",
    "- ... all subject to a borrowing constraint $a'\\geq \\underline{a}$ and no ability to insure against the shock $e$\n",
    "\n",
    "\n",
    "$$\n",
    "\\begin{gather}\n",
    "V(e,a)=\\max_{c,a'} u(c)+\\beta\\mathbb{E}[V(e',a')|e] \\tag{1}\\\\\n",
    "\\text{s.t. }a'+c=(1+r)a+y(e) \\tag{2}\\\\\n",
    "a'\\geq \\underline{a} \\tag{3} \\\\\n",
    "\\end{gather}\n",
    "$$\n",
    "\n",
    "- (aka Bewley-Huggett-Aiyagari-Imrohoroglu-Zeldes-Deaton-Carroll model)"
   ]
  },
  {
   "cell_type": "markdown",
   "id": "1cffa619",
   "metadata": {
    "slideshow": {
     "slide_type": "slide"
    }
   },
   "source": [
    "# Nice features of this model\n",
    "- Simple consumption-savings model with consumption smoothing and precautionary savings\n",
    "\n",
    "\n",
    "- High MPCs\n",
    "\n",
    "\n",
    "- Endogenously generates wealth distribution (and inequality)\n",
    "\n",
    "\n",
    "- Steady-state asset demand not infinitely elastic in $r$\n",
    "\n",
    "\n",
    "- Easy to extend\n",
    "    \n",
    "    \n",
    "- **Backbone of everything we'll do!**"
   ]
  },
  {
   "cell_type": "markdown",
   "id": "dd32d77d",
   "metadata": {
    "slideshow": {
     "slide_type": "slide"
    }
   },
   "source": [
    "# Solving the model in steady state\n",
    "Four steps, middle two the hardest:\n",
    "\n",
    "1. **Discretizing state space**: get Markov chain for $e$ and grid for $a$\n",
    "\n",
    "\n",
    "2. **Solving for steady-state policy function**: get policies $a'(e,a)$ and $c(e,a)$ on grid\n",
    "    - Use \"endogenous gridpoints method\" to iterate backward on marginal value function $V_a(e,a)$ until we reach steady state\n",
    "\n",
    "\n",
    "3. **Solving for steady-state distribution**: get discretized distribution $D(e,a)$ of agents on grid\n",
    "    - Convert asset choices $a'$ into \"lotteries\" between adjacent gridpoints that give $a'$ on average, then use this approximation to iterate forward on $D(e,a)$ until we reach steady state\n",
    "\n",
    "\n",
    "4. **Aggregating**: combine steps 2 and 3 to get aggregate assets and consumption"
   ]
  },
  {
   "cell_type": "markdown",
   "id": "5e8a3fef",
   "metadata": {
    "slideshow": {
     "slide_type": "slide"
    }
   },
   "source": [
    "# All boiled down into one Python module\n",
    "All our code from lecture boiled down into `sim_steady_state.py`, refined slightly in `sim_steady_state_fast.py`, which doubles speed"
   ]
  },
  {
   "cell_type": "code",
   "execution_count": 1,
   "id": "6e096d9b",
   "metadata": {},
   "outputs": [],
   "source": [
    "import sim_steady_state_fast as sim"
   ]
  },
  {
   "cell_type": "markdown",
   "id": "a1916459",
   "metadata": {},
   "source": [
    "Other Python libraries:"
   ]
  },
  {
   "cell_type": "code",
   "execution_count": 2,
   "id": "7ecb67cf",
   "metadata": {},
   "outputs": [],
   "source": [
    "import numpy as np\n",
    "from scipy import optimize\n",
    "import matplotlib.pyplot as plt\n",
    "\n",
    "# some useful plot defaults\n",
    "plt.rcParams.update({'font.size' : 20, 'lines.linewidth' : 3.5, 'figure.figsize' : (13,7)})"
   ]
  },
  {
   "cell_type": "markdown",
   "id": "4079689a",
   "metadata": {
    "slideshow": {
     "slide_type": "slide"
    }
   },
   "source": [
    "# Calibration: choose parameters (e.g. $\\beta$) to hit targets\n",
    "Our methods compute steady state of standard incomplete markets model given parameters, e.g."
   ]
  },
  {
   "cell_type": "code",
   "execution_count": 3,
   "id": "697e049d",
   "metadata": {},
   "outputs": [
    {
     "data": {
      "text/plain": [
       "dict_keys(['a_grid', 'y', 'Pi', 'r', 'beta', 'eis'])"
      ]
     },
     "execution_count": 3,
     "metadata": {},
     "output_type": "execute_result"
    }
   ],
   "source": [
    "calib = sim.example_calibration()\n",
    "calib.keys()"
   ]
  },
  {
   "cell_type": "code",
   "execution_count": 4,
   "id": "e232d6f8",
   "metadata": {},
   "outputs": [
    {
     "data": {
      "text/plain": [
       "1.6645070661939911"
      ]
     },
     "execution_count": 4,
     "metadata": {},
     "output_type": "execute_result"
    }
   ],
   "source": [
    "ss = sim.steady_state(**calib)\n",
    "ss['A']"
   ]
  },
  {
   "cell_type": "markdown",
   "id": "44f2ae50",
   "metadata": {},
   "source": [
    "But an alternative is to choose some parameters (for instance, $\\beta$) to hit some targets (for instance, total assets equal to 5.6, or 1.4 times annual income):"
   ]
  },
  {
   "cell_type": "code",
   "execution_count": 5,
   "id": "2c39af40",
   "metadata": {},
   "outputs": [
    {
     "data": {
      "text/plain": [
       "(0.9877039403543708, 5.599999999969482)"
      ]
     },
     "execution_count": 5,
     "metadata": {},
     "output_type": "execute_result"
    }
   ],
   "source": [
    "beta_calib = optimize.brentq(\n",
    "                lambda beta: sim.steady_state(**{**calib, 'beta': beta})['A'] - 5.6,\n",
    "                0.98, 0.995)\n",
    "ss = sim.steady_state(**{**calib, 'beta': beta_calib})\n",
    "beta_calib, ss['A']"
   ]
  },
  {
   "cell_type": "markdown",
   "id": "39ffd370",
   "metadata": {
    "slideshow": {
     "slide_type": "slide"
    }
   },
   "source": [
    "# General equilibrium\n",
    "Embed partial equilibrium standard incomplete markets in simple general equilibrium setting:\n",
    "- Households have endowments $e$ of effective labor, which produce goods one-for-one\n",
    "\n",
    "\n",
    "\n",
    "- Government issues debt $B$ and finances with tax $\\tau=rB$, households earn $y(e)=(1-\\tau)e$\n",
    "\n",
    "\n",
    "Calibrate to same asset target:"
   ]
  },
  {
   "cell_type": "code",
   "execution_count": 6,
   "id": "bed1feda",
   "metadata": {},
   "outputs": [],
   "source": [
    "calib = sim.example_calibration()\n",
    "B = 5.6\n",
    "tau = calib['r']*B\n",
    "calib['y'] *= (1-tau)\n",
    "beta_ge = optimize.brentq(lambda beta: sim.steady_state(**{**calib, 'beta': beta})['A'] - B, 0.98, 0.995)\n",
    "ss_ge = sim.steady_state(**{**calib, 'beta': beta_ge})"
   ]
  },
  {
   "cell_type": "markdown",
   "id": "5e9c55d3",
   "metadata": {},
   "source": [
    "Asset and goods market clearing:"
   ]
  },
  {
   "cell_type": "code",
   "execution_count": 7,
   "id": "d0ad13b7",
   "metadata": {
    "scrolled": false
   },
   "outputs": [
    {
     "data": {
      "text/plain": [
       "(-1.660449555629384e-11, 3.802775649930368e-09)"
      ]
     },
     "execution_count": 7,
     "metadata": {},
     "output_type": "execute_result"
    }
   ],
   "source": [
    "ss_ge['A'] - B, ss_ge['C'] - 1"
   ]
  },
  {
   "cell_type": "markdown",
   "id": "bddfeb8d",
   "metadata": {
    "slideshow": {
     "slide_type": "slide"
    }
   },
   "source": [
    "# General equilibrium counterfactuals\n",
    "Vary some parameter of model, then recalculate $r$ to satisfy asset market clearing.\n",
    "\n",
    "Here, let's change standard deviation of income:"
   ]
  },
  {
   "cell_type": "code",
   "execution_count": 8,
   "id": "6e53c0f0",
   "metadata": {
    "scrolled": false
   },
   "outputs": [
    {
     "data": {
      "image/png": "[encoded data removed]",
      "text/plain": [
       "<Figure size 936x504 with 1 Axes>"
      ]
     },
     "metadata": {
      "needs_background": "light"
     },
     "output_type": "display_data"
    }
   ],
   "source": [
    "sigmas = np.linspace(0.5, 0.9, 6) # our benchmark was sigma=0.7\n",
    "rs = []\n",
    "for sigma in sigmas:\n",
    "    e, pi, Pi = sim.discretize_income(0.975, sigma, 7)\n",
    "    rs.append(optimize.brentq(\n",
    "                lambda r: sim.steady_state(**{**calib, 'y': (1-r*B)*e, 'r': r, 'beta': beta_ge, 'Pi': Pi})['A'] - B,\n",
    "                -0.02, 0.01))\n",
    "plt.plot(sigmas, 4*np.array(rs))\n",
    "plt.xlabel('Cross-sectional standard deviation of income')\n",
    "plt.ylabel('Equilibrium real interest rate (annualized)');"
   ]
  },
  {
   "cell_type": "markdown",
   "id": "80d41a50",
   "metadata": {},
   "source": [
    "(Minor side note: using a narrower range of $\\sigma$ here, since the larger range in original lecture required more forward iterations than `sim_steady_state` code allows by default.)"
   ]
  },
  {
   "cell_type": "markdown",
   "id": "24548419",
   "metadata": {
    "slideshow": {
     "slide_type": "slide"
    }
   },
   "source": [
    "# Expectation functions\n",
    "- For any function $x(e,a)$, ask: if the state is $(e_t,a_t)$ today, what do we expect $x(e_{t+j},a_{t+j})$ to be, assuming household follows steady-state policy rule?\n",
    "\n",
    "\n",
    "- Call this the $j$th **expectation function** $\\mathcal{E}_j$, easily calculated using law of iterated expectations and code for one-period-ahead expectation:\n",
    "\n",
    "$$\n",
    "\\mathcal{E}_j(e,a) \\equiv \\mathbb{E}[x(e_{t+j}, a_{t+j}) | (e_t, a_t)]\n",
    "$$\n",
    "    \n",
    "\n",
    "- For instance, expectation function of assets, for household with zero assets but high income today:"
   ]
  },
  {
   "cell_type": "code",
   "execution_count": 9,
   "id": "40dd27ae",
   "metadata": {},
   "outputs": [
    {
     "data": {
      "image/png": "[encoded data removed]",
      "text/plain": [
       "<Figure size 936x504 with 1 Axes>"
      ]
     },
     "metadata": {
      "needs_background": "light"
     },
     "output_type": "display_data"
    }
   ],
   "source": [
    "curlyE = sim.expectation_functions(ss['a'], ss['Pi'], ss['a_i'], ss['a_pi'], 100)\n",
    "plt.plot(curlyE[:, -1, 0]);"
   ]
  }
 ],
 "metadata": {
  "celltoolbar": "Slideshow",
  "kernelspec": {
   "display_name": "Python 3 (ipykernel)",
   "language": "python",
   "name": "python3"
  },
  "language_info": {
   "codemirror_mode": {
    "name": "ipython",
    "version": 3
   },
   "file_extension": ".py",
   "mimetype": "text/x-python",
   "name": "python",
   "nbconvert_exporter": "python",
   "pygments_lexer": "ipython3",
   "version": "3.8.13"
  }
 },
 "nbformat": 4,
 "nbformat_minor": 5
}
