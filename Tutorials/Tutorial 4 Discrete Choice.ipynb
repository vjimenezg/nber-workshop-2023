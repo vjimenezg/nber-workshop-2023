{
 "cells": [
  {
   "attachments": {},
   "cell_type": "markdown",
   "metadata": {},
   "source": [
    "# Tutorial: Discrete Choice with Taste Shocks\n",
    "\n",
    "1. Solve SIM model with labor force participation\n",
    "2. Practice: add search frictions\n",
    "3. Practice: explore effect of taste shock scale on block Jacobian"
   ]
  },
  {
   "cell_type": "code",
   "execution_count": 1,
   "metadata": {},
   "outputs": [],
   "source": [
    "import numpy as np\n",
    "from numba import njit\n",
    "import matplotlib.pyplot as plt\n",
    "from copy import deepcopy\n",
    "# import sequence_jacobian as sj\n",
    "\n",
    "from sequence_jacobian import grids, interpolate\n",
    "from sequence_jacobian.blocks.stage_block import StageBlock\n",
    "from sequence_jacobian.blocks.support.stages import Continuous1D, ExogenousMaker, LogitChoice"
   ]
  },
  {
   "attachments": {},
   "cell_type": "markdown",
   "metadata": {},
   "source": [
    "## 1 SIM model with labor force participation\n",
    "\n",
    "So far in this course, we used `HetBlock` to represent the SIM model in SSJ. `HetBlock` supports models with a sequence of discrete shocks (given by `exogenous` kwarg in constructor) followed by a continuous choice. `StageBlock` is a more flexible version of `HetBlock`, that allows for an arbitrary sequence of stages, including logit choice from a discrete choice set. Eventually, `StageBlock` may just supersede `HetBlock`, but it's still in an experimental stage, so we did not want to get rid of our trusty `HetBlock` yet."
   ]
  },
  {
   "attachments": {},
   "cell_type": "markdown",
   "metadata": {},
   "source": [
    "### 1.1 Setup\n",
    "\n",
    "Strictly-speaking, the state space in the beginning of period is $(z, a)$\n",
    "<!-- - employment status $e \\in \\{E, N\\}$ chosen by househod -->\n",
    "- productivity $z \\in \\{z_1, \\dots, z_{m}\\} \\equiv \\mathcal{G}_z$\n",
    "- liquid assets $a \\in [\\underline{a}, \\infty)$\n",
    "\n",
    "However, in stage 3, we'll want to solve for consumption and asset policies conditional on labor supply $n \\in \\{0, 1\\}.$ The implementation of `StageBlock` does not allow for changing the number of axes between stages. So, we will define everything on the largest grid we need, i.e. $(n, z, a)$ for\n",
    "- labor supply $n \\in \\{0, 1\\}$"
   ]
  },
  {
   "attachments": {},
   "cell_type": "markdown",
   "metadata": {},
   "source": [
    "#### Stage 1: productivity shock\n",
    "\n",
    "Labor productivity follows a discretized AR(1) process in logs\n",
    "$$\n",
    "\\begin{align*}\n",
    "\\log z &= \\rho_z \\log z_{-} + \\epsilon\n",
    "\\\\\n",
    "\\epsilon &\\sim \\mathcal{N}(0, \\sigma_z^2)\n",
    "\\end{align*}\n",
    "$$\n",
    "\n",
    "As always, we're going to discretize this using Rouwenhorst method. So, we'll end up with a finite grid $\\mathcal{G_z} \\equiv [z_1, \\dots, z_m]$ and transition matrix $\\Pi_z \\in \\mathbb{R}^{m\\times m}$. Then, backward iteration amounts to\n",
    "$$\n",
    "V^{(1)} = \\Pi_z V^{(2)}\n",
    "$$\n",
    "and forward iteration amount to\n",
    "$$\n",
    "D^{(2)} = \\Pi_z' D^{(1)}\n",
    "$$\n",
    "**Exploiting sparsity**: shock is independent of all other states $(n, a)$.\n",
    "\n",
    "Let's initialize this stage using the---somewhat awkwardly named---constructor `ExogenousMaker`. The inputs of this function are\n",
    "- `markov_name`: name of Markov matrix that drives this state\n",
    "- `index`: axis of corresponding state\n",
    "- `name`: just a name for the stage (this is how we'll refer to stage-specific data later)"
   ]
  },
  {
   "cell_type": "code",
   "execution_count": 2,
   "metadata": {},
   "outputs": [],
   "source": [
    "prod_stage = ExogenousMaker(markov_name='z_markov', index=1, name='prod')"
   ]
  },
  {
   "attachments": {},
   "cell_type": "markdown",
   "metadata": {},
   "source": [
    "#### Stage 2: Labor supply choice\n",
    "\n",
    "Households decide whether to work full time or not at all. Working has a utility cost $\\varphi.$ On the slides, I accounted for disutility of labor in the consumption-saving stage. Then, it affects this stage via next-period value function $V^{(3)}$. Alternatively, we can account for the cost here. Also, notice that \"phantom state\" $n_-$ that we need to span the third axis of the state space.\n",
    "$$\n",
    "V^{(2)}(n_{-}, z, a_-) = \\max_{n \\in \\{0, 1\\}} V^{(3)}(n, z, a_-) - \\varphi n + \\underbrace{\\varepsilon(n)}_{\\text{taste shock}}\n",
    "$$\n",
    "Solving this stage will yield us choice probabilities $P(n|n_-, z, a_-)$. This will be used in forward iteration\n",
    "$$\n",
    "D^{(3)}(n, \\bullet) = \\sum_{n_-} P(n|n_-, \\bullet)D^{(2)}(n_-, \\bullet)\n",
    "$$\n",
    "\n",
    "**Sparsity**: $P$ maps $(n_-, \\bullet)$ into $n$ and not $(n, \\bullet).$ \n",
    "\n",
    "We initialize the logit choice stage via the---aptly named---constructor `LogitChoice`. The inputs are\n",
    "- `value`: name of value function, SSJ has to know which object to apply the logsum formula to\n",
    "- `backward`: names of other variables that have to be propagated backward, typically this is partial value function needed for EGM in continuous choice stage \n",
    "- `index`: axis of correspoinding state\n",
    "- `name`: name of stage\n",
    "- `taste_shock_scale`: name of $\\sigma_\\varepsilon$ parameter, needed for all formulas\n",
    "- `f`: (optional) function that implements additive utility cost on expanded state $(n| n_-, z, a_-)$. This is useful to implement costs that depend on origin as well as destination $(n|n_-)$. Setting some costs to infinity implements constraints on discrete choice (more on this below).\n",
    "\n",
    "Let's start by implementing the cost function `util_l`."
   ]
  },
  {
   "cell_type": "code",
   "execution_count": 3,
   "metadata": {},
   "outputs": [],
   "source": [
    "def util_l(V, vphi):\n",
    "    # on (n| n_)\n",
    "    flow_u = np.array([[-vphi, -vphi],  # E|E and E|N\n",
    "                       [0    , 0]])     # N|E and N|N\n",
    "\n",
    "    # on (n| n_, z, a)\n",
    "    shape = np.zeros((2, 2,) + V.shape[1:])\n",
    "    flow_u = flow_u[..., np.newaxis, np.newaxis] + shape\n",
    "\n",
    "    return flow_u"
   ]
  },
  {
   "attachments": {},
   "cell_type": "markdown",
   "metadata": {},
   "source": [
    "We're now ready to initialize the stage."
   ]
  },
  {
   "cell_type": "code",
   "execution_count": 4,
   "metadata": {},
   "outputs": [],
   "source": [
    "labsup_stage = LogitChoice(value='V', backward='Va', index=0, name='labsup',\n",
    "                           taste_shock_scale='taste_shock', f=util_l)"
   ]
  },
  {
   "attachments": {},
   "cell_type": "markdown",
   "metadata": {},
   "source": [
    "#### Stage 3: Consumption-saving decision\n",
    "\n",
    "The Bellman equation is\n",
    "$$\n",
    "\\begin{align*}\n",
    "V_t^{(3)}(n, z, a_{-}) = \\max_{c, a} u(c) + \\beta \\mathbb{E}_tV_{t+1}^{(0)}(n, z, a)\n",
    "\\qquad\n",
    "\\text{s.t. } c + a &= (1 + r_t)a_{-} + w_t n_t z_t + T_t\n",
    "\\\\\n",
    "a &\\geq \\underline{a}\n",
    "\\end{align*}\n",
    "$$\n",
    "\n",
    "This is the most involved stage, as we have to implement EGM with upper envelope. To give you an idea of where we're going, we'll construct this stage with the constructor `Continuous1D`, whose inputs are almost the same as they are for a `HetBlock`:\n",
    "```\n",
    "consav_stage = Continuous1D(backward=['V', 'Va'], policy='a', f=dcegm, name='consav', hetoutputs=[labsup])\n",
    "```\n",
    "Inputs are\n",
    "- `backward`: list of variables we need to propagate backward\n",
    "- `policy`: name of endogenous state\n",
    "- `f`: function that implements single step of backward iteration, $\\left(V^{(j+1)}, V_a^{(j+1)}\\right) \\to \\left(V^{(j)}, V_a^{(j)}\\right)$\n",
    "- `hetoutputs`: (optional) list of functions reporting policies on the grid that are not required to perform the backward iteration, these functions will be called only when the backward iteration has converged\n",
    "\n",
    "Let's start building up the `dcegm` function."
   ]
  },
  {
   "cell_type": "code",
   "execution_count": 5,
   "metadata": {},
   "outputs": [],
   "source": [
    "def dcegm(V, Va, a_grid, coh, y, r, beta, eis):\n",
    "    \"\"\"DC-EGM algorithm\"\"\"\n",
    "    # use all FOCs on endogenous grid\n",
    "    W = beta * V                                                  # end-of-stage vfun\n",
    "    uc_endo = beta * Va                                           # envelope condition\n",
    "    c_endo = uc_endo** (-eis)                                     # Euler equation\n",
    "    a_endo = (c_endo + a_grid - y[..., np.newaxis]) / (1 + r)     # budget constraint \n",
    "\n",
    "    # interpolate with upper envelope, enforce borrowing limit\n",
    "    V, c, a = upperenv(W, a_endo, coh, a_grid, eis)\n",
    "\n",
    "    # update Va on exogenous grid\n",
    "    uc = c ** (-1 / eis)                                          # Euler equation\n",
    "    Va = (1 + r) * uc                                             # envelope condition\n",
    "\n",
    "    return V, Va, a, c"
   ]
  },
  {
   "attachments": {},
   "cell_type": "markdown",
   "metadata": {},
   "source": [
    "Everything that's new happens in `upperenv` function. This can be written in a fairly general way. First, let us use a simple wrapper to make it independent of the size of the state space. We temporarily collapse states associated with all other stages into a single axis. The real work is done by `upperenv_vec`. "
   ]
  },
  {
   "cell_type": "code",
   "execution_count": 6,
   "metadata": {},
   "outputs": [],
   "source": [
    "def upperenv(W, a_endo, coh, a_grid, *args):\n",
    "    # collapse (n, z, a) into (b, a)\n",
    "    shape = W.shape\n",
    "    W = W.reshape((-1, shape[-1]))\n",
    "    a_endo = a_endo.reshape((-1, shape[-1]))\n",
    "    coh = coh.reshape((-1, shape[-1]))\n",
    "    V, c, a = upperenv_vec(W, a_endo, coh, a_grid, *args)\n",
    "\n",
    "    # report on (n, z, a)\n",
    "    return V.reshape(shape), c.reshape(shape), a.reshape(shape)"
   ]
  },
  {
   "attachments": {},
   "cell_type": "markdown",
   "metadata": {},
   "source": [
    "We're finally ready to discuss the core upper envelope step. To gist is the following. We consider every segment of the endogenous grid $(a_{j}^{endo}, a_{j+1}^{endo})$ and find all the exogenous gridpoints $a^{grid}_i$ that fall into that segment. We interpolate there to get a candidate solution $a_i$. Since the endogenous grid is non-monotonic, the same point $a^{grid}_i$ may be bracketed by another segment $(a_{\\tilde j}^{endo}, a_{\\tilde j+1}^{endo}).$ When this happens, we keep the solution that gives higher value. "
   ]
  },
  {
   "cell_type": "code",
   "execution_count": 7,
   "metadata": {},
   "outputs": [],
   "source": [
    "@njit\n",
    "def upperenv_vec(W, a_endo, coh, a_grid, *args):\n",
    "    \"\"\"Interpolate value function and consumption to exogenous grid.\"\"\"\n",
    "    n_b, n_a = W.shape\n",
    "    a = np.zeros_like(W)\n",
    "    c = np.zeros_like(W)\n",
    "    V = -np.inf * np.ones_like(W)\n",
    "\n",
    "    # loop over other states, collapsed into single axis\n",
    "    for ib in range(n_b):\n",
    "        # loop over segments of endogenous asset grid from EGM (not necessarily increasing)\n",
    "        for ja in range(n_a - 1):\n",
    "            a_low, a_high = a_endo[ib, ja], a_endo[ib, ja + 1]\n",
    "            W_low, W_high = W[ib, ja], W[ib, ja + 1]\n",
    "            ap_low, ap_high = a_grid[ja], a_grid[ja + 1]\n",
    "            \n",
    "           # loop over exogenous asset grid (increasing) \n",
    "            for ia in range(n_a):  \n",
    "                acur = a_grid[ia]\n",
    "                coh_cur = coh[ib, ia]\n",
    "                \n",
    "                interp = (a_low <= acur <= a_high) \n",
    "                extrap = (ja == n_a - 2) and (acur > a_endo[ib, n_a - 1])\n",
    "\n",
    "                # exploit that a_grid is increasing\n",
    "                if (a_high < acur < a_endo[ib, n_a - 1]):\n",
    "                    break\n",
    "\n",
    "                if interp or extrap:\n",
    "                    W0 = interpolate.interpolate_point(acur, a_low, a_high, W_low, W_high)\n",
    "                    a0 = interpolate.interpolate_point(acur, a_low, a_high, ap_low, ap_high)\n",
    "                    c0 = coh_cur - a0\n",
    "                    V0 = util_c(c0, *args) + W0\n",
    "\n",
    "                    # upper envelope, update if new is better\n",
    "                    if V0 > V[ib, ia]:\n",
    "                        a[ib, ia] = a0 \n",
    "                        c[ib, ia] = c0\n",
    "                        V[ib, ia] = V0\n",
    "\n",
    "        # Enforce borrowing constraint\n",
    "        ia = 0\n",
    "        while ia < n_a and a_grid[ia] <= a_endo[ib, 0]:\n",
    "            a[ib, ia] = a_grid[0]\n",
    "            c[ib, ia] = coh[ib, ia]\n",
    "            V[ib, ia] = util_c(c[ib, ia], *args) + W[ib, 0]\n",
    "            ia += 1\n",
    "\n",
    "    return V, c, a"
   ]
  },
  {
   "attachments": {},
   "cell_type": "markdown",
   "metadata": {},
   "source": [
    "The `upperenv_vec` has to evaluate flow utility from consumption at interpolated points. Let's define `util_c` function that's njitted because it's called within an njitted function. "
   ]
  },
  {
   "cell_type": "code",
   "execution_count": 8,
   "metadata": {},
   "outputs": [],
   "source": [
    "@njit\n",
    "def util_c(c, eis):\n",
    "    if eis == 1:\n",
    "        u = np.log(c)\n",
    "    else:\n",
    "        u = c ** (1 - 1 / eis) / (1 - 1 / eis)\n",
    "    return u\n",
    "\n",
    "\n",
    "def employment(c):\n",
    "    l = np.zeros_like(c)\n",
    "    l[0, ...] = 1\n",
    "    return l"
   ]
  },
  {
   "attachments": {},
   "cell_type": "markdown",
   "metadata": {},
   "source": [
    "Lastly, let's report the mass of households that choose to work in a given period. This could be read off from the choice probabilities but it's more convenient to define it directly as a `hetoutput`, attached to the consav stage.  \n",
    "\n",
    "Now, we have all the pieces to construct the consumption-savings stage."
   ]
  },
  {
   "cell_type": "code",
   "execution_count": 9,
   "metadata": {},
   "outputs": [],
   "source": [
    "consav_stage = Continuous1D(backward=['V', 'Va'], policy='a', f=dcegm,\n",
    "                            name='consav', hetoutputs=[employment])"
   ]
  },
  {
   "attachments": {},
   "cell_type": "markdown",
   "metadata": {},
   "source": [
    "#### Put everything together\n",
    "\n",
    "Let's stitch together the 3 stages to form the `StageBlock` representing this HA problem. As in the case of a `HetBlock`, we need also have to add \n",
    "- `backward_init`: function that constructs the initial guess for backward variables\n",
    "- `hetinputs`: (optional) list of functions that map aggregate inputs from outside the block into multidimensional inputs\n",
    "\n",
    "As usual, we compute the initial guess from an old Keynesian consumption function."
   ]
  },
  {
   "cell_type": "code",
   "execution_count": 10,
   "metadata": {},
   "outputs": [],
   "source": [
    "def hh_init(coh, a_grid, eis):\n",
    "    V = util_c(0.2 * coh, eis) / 0.01\n",
    "    Va = np.empty_like(V)\n",
    "    Va[..., 1:-1] = (V[..., 2:] - V[..., :-2]) / (a_grid[2:] - a_grid[:-2])\n",
    "    Va[..., 0] = (V[..., 1] - V[..., 0]) / (a_grid[1] - a_grid[0])\n",
    "    Va[..., -1] = (V[..., -1] - V[..., -2]) / (a_grid[-1] - a_grid[-2])\n",
    "    return V, Va "
   ]
  },
  {
   "attachments": {},
   "cell_type": "markdown",
   "metadata": {},
   "source": [
    "Let's specify hetinputs.\n",
    "- `make_grids`: construct Markov process for productivity and the assets grid \n",
    "- `labor_income`: combines grids with aggregate wage and interest rate to build income and cash on hand\n",
    "\n",
    "**Comment:** Matt advocated for double exponential grid for assets in SIM model. Here, I don't want to bunch points as much near the borrowing constraint, because discrete choice creates nonlinearities away from the borrowing constraint as well. Our old `grids.agrid` function does single-exponential grid, which I will use here."
   ]
  },
  {
   "cell_type": "code",
   "execution_count": 11,
   "metadata": {},
   "outputs": [],
   "source": [
    "def make_grids(rho_z, sd_z, n_z, min_a, max_a, n_a):\n",
    "    z_grid, z_dist, z_markov = grids.markov_rouwenhorst(rho_z, sd_z, n_z)\n",
    "    a_grid = grids.agrid(max_a, n_a, min_a)\n",
    "    return z_grid, z_dist, z_markov, a_grid\n",
    "\n",
    "\n",
    "def labor_income(a_grid, z_grid, r, w):\n",
    "    y = z_grid[np.newaxis, :] * np.array([w, 0.1])[:, np.newaxis]           # on (n, z)\n",
    "    coh = (1 + r) * a_grid[np.newaxis, np.newaxis, :] + y[..., np.newaxis]  # on (n, z, a)\n",
    "    return y, coh"
   ]
  },
  {
   "attachments": {},
   "cell_type": "markdown",
   "metadata": {},
   "source": [
    "At last, we assemble the `StageBlock`."
   ]
  },
  {
   "cell_type": "code",
   "execution_count": 12,
   "metadata": {},
   "outputs": [
    {
     "name": "stdout",
     "output_type": "stream",
     "text": [
      "<StageBlock 'hh' with stages ['prod', 'labsup', 'consav']>\n",
      "Inputs: ['taste_shock', 'vphi', 'r', 'beta', 'eis', 'rho_z', 'sd_z', 'n_z', 'min_a', 'max_a', 'n_a', 'w']\n",
      "Outputs: ['A', 'C', 'L']\n"
     ]
    }
   ],
   "source": [
    "hh = StageBlock([prod_stage, labsup_stage, consav_stage], name='hh',\n",
    "                backward_init=hh_init, hetinputs=[make_grids, labor_income])\n",
    "\n",
    "print(hh)\n",
    "print(f\"Inputs: {hh.inputs}\")\n",
    "print(f\"Outputs: {hh.outputs}\")"
   ]
  },
  {
   "attachments": {},
   "cell_type": "markdown",
   "metadata": {},
   "source": [
    "## 2 Solving the baseline model\n",
    "\n",
    "Consider 3 cases.\n",
    "- `sim`: no disutility from labor implies that everybody works all the time\n",
    "- `ck`: disutility of labor binds for non-negligible share of population, scale of taste shock is tiny\n",
    "- `ck_smooth`: same as `ck` but taste shocks are larger\n",
    "\n",
    "Let's start by specifying the calibration dictionary for each case."
   ]
  },
  {
   "cell_type": "code",
   "execution_count": 13,
   "metadata": {},
   "outputs": [],
   "source": [
    "cali = dict()\n",
    "\n",
    "cali['sim'] = {'taste_shock': 1E-5, 'vphi': 0.0, 'r': 0.02/4, 'beta': 0.97, 'eis': 0.5,\n",
    "               'rho_z': 0.95, 'sd_z': 0.5, 'n_z': 7,\n",
    "               'min_a': 0.0, 'max_a': 200, 'n_a': 200, 'w': 1.0}\n",
    "\n",
    "cali['ck'] = deepcopy(cali['sim'])\n",
    "cali['ck']['vphi'] = 1.0\n",
    "\n",
    "cali['ck_smooth'] = deepcopy(cali['ck'])\n",
    "cali['ck_smooth']['taste_shock'] = 1E-2"
   ]
  },
  {
   "attachments": {},
   "cell_type": "markdown",
   "metadata": {},
   "source": [
    "`StageBlock` is a subclass of `Block`. As such, it has all the standard methods:\n",
    "- `steady_state` and `solve_steady_state`\n",
    "- `impulse_linear` and `solve_impulse_linear`\n",
    "- `impulse_nonlinear` and `solve_impulse_nonlinear`"
   ]
  },
  {
   "cell_type": "code",
   "execution_count": 14,
   "metadata": {},
   "outputs": [
    {
     "name": "stdout",
     "output_type": "stream",
     "text": [
      "Aggregate employment in model sim: 1.00\n",
      "Aggregate employment in model ck: 0.85\n",
      "Aggregate employment in model ck_smooth: 0.85\n"
     ]
    }
   ],
   "source": [
    "ss = dict()\n",
    "for i in cali.keys():\n",
    "    ss[i] = hh.steady_state(cali[i])\n",
    "    print(f\"Aggregate employment in model {i}: {ss[i]['L']:0.2f}\")"
   ]
  },
  {
   "attachments": {},
   "cell_type": "markdown",
   "metadata": {},
   "source": [
    "What's in the output?"
   ]
  },
  {
   "cell_type": "code",
   "execution_count": 15,
   "metadata": {},
   "outputs": [
    {
     "name": "stdout",
     "output_type": "stream",
     "text": [
      "<SteadyStateDict: ['A', 'C', 'L', 'taste_shock', 'vphi', 'r', 'beta', 'eis', 'rho_z', 'sd_z', 'n_z', 'min_a', 'max_a', 'n_a', 'w'], internals=['hh']>\n",
      "\n",
      "Internals of `hh` block:\n",
      "------------------------\n",
      "['taste_shock', 'vphi', 'r', 'beta', 'eis', 'rho_z', 'sd_z', 'n_z', 'min_a', 'max_a', 'n_a', 'w', 'z_grid', 'z_dist', 'z_markov', 'a_grid', 'y', 'coh', 'prod', 'labsup', 'consav']\n",
      "\n",
      "Internals of `hh` block `prod` stage:\n",
      "-------------------------------------\n",
      "['Va', 'V', 'law_of_motion', 'D']\n"
     ]
    }
   ],
   "source": [
    "print(ss['ck_smooth'])\n",
    "print(\"\")\n",
    "print(\"Internals of `hh` block:\")\n",
    "print(\"------------------------\")\n",
    "print(list(ss['ck_smooth'].internals['hh'].keys()))\n",
    "print(\"\")\n",
    "print(\"Internals of `hh` block `prod` stage:\")\n",
    "print(\"-------------------------------------\")\n",
    "print(list(ss['ck_smooth'].internals['hh']['prod'].keys()))"
   ]
  },
  {
   "attachments": {},
   "cell_type": "markdown",
   "metadata": {},
   "source": [
    "`law_of_motion` is the abstract class that represents Markov matrices $\\Lambda \\in \\mathbb{R}^{N \\times N}$ on the slides."
   ]
  },
  {
   "cell_type": "code",
   "execution_count": 16,
   "metadata": {},
   "outputs": [
    {
     "name": "stdout",
     "output_type": "stream",
     "text": [
      "`prod` stage's law of motion represented by a small n_z*n_z matrix:\n",
      "-------------------------------------------------------------------\n",
      "Pi_z of size (7, 7)\n",
      "\n",
      "`labsup` stage's law of motion represented by optimal choice probabilities:\n",
      "---------------------------------------------------------------------------\n",
      "P of size (2, 2, 7, 200)\n",
      "\n",
      "`consav` stage's law of motion represented by interpolated asset policy rule:\n",
      "-----------------------------------------------------------------------------\n",
      "(a_i, a_pi) of size (14, 200) each\n"
     ]
    }
   ],
   "source": [
    "print(\"`prod` stage's law of motion represented by a small n_z*n_z matrix:\")\n",
    "print(\"-------------------------------------------------------------------\")\n",
    "print(f\"Pi_z of size {ss['ck_smooth'].internals['hh']['prod']['law_of_motion'].Pi.shape}\")\n",
    "print(\"\")\n",
    "print(\"`labsup` stage's law of motion represented by optimal choice probabilities:\")\n",
    "print(\"---------------------------------------------------------------------------\")\n",
    "print(f\"P of size {ss['ck_smooth'].internals['hh']['labsup']['law_of_motion'].P.shape}\")\n",
    "print(\"\")\n",
    "print(\"`consav` stage's law of motion represented by interpolated asset policy rule:\")\n",
    "print(\"-----------------------------------------------------------------------------\")\n",
    "print(f\"(a_i, a_pi) of size {ss['ck_smooth'].internals['hh']['consav']['law_of_motion'].i.shape} each\")"
   ]
  },
  {
   "attachments": {},
   "cell_type": "markdown",
   "metadata": {},
   "source": [
    "Notice that **all** of these representation are sparse vis-a-vis $\\mathbb{R}^{N \\times N}$ for $N = 2 \\times 7 \\times 200$. The key is that instead of using some generic sparse matrix library, we wrote these subclasses specifically for the underlying stage. In sum, stages are key to exploit sparsity to the limit. And stages only make sense in discrete time. Again, this is not saying that continuous time does not have tangible advantages. But sparsity is not one of them.\n",
    "\n",
    "Let's visualize policy functions."
   ]
  },
  {
   "cell_type": "code",
   "execution_count": 17,
   "metadata": {},
   "outputs": [],
   "source": [
    "def fig1(ss, amax=150, amin=0, iz=3, figsize=0.6):\n",
    "    a_grid = ss['sim'].internals['hh']['a_grid']\n",
    "    a, da, c, P, V = dict(), dict(), dict(), dict(), dict()\n",
    "    models = ['sim', 'ck', 'ck_smooth']\n",
    "    for i in models:\n",
    "        a[i] = ss[i].internals['hh']['consav']['a']\n",
    "        da[i] = a[i] - a_grid\n",
    "        c[i] = ss[i].internals['hh']['consav']['c']\n",
    "        P[i] = ss[i].internals['hh']['labsup']['law_of_motion'].P\n",
    "        V[i] = ss[i].internals['hh']['labsup']['V']\n",
    "\n",
    "    fig, axes = plt.subplots(1, 3, figsize=(12*figsize, 4*figsize))\n",
    "    ax = axes.flatten()\n",
    "    \n",
    "    labels = [r'SIM', r'costly labor', r'w taste shock'] \n",
    "\n",
    "    for i, l in zip(models, labels):\n",
    "        ax[0].plot(a_grid[:amax], np.sum(P[i][:, 0, iz, :amax] * a[i][:, iz, :amax], axis=0), label=l, linewidth=2)\n",
    "    ax[0].plot(a_grid[:amax], a_grid[:amax], color='gray', linestyle=':')\n",
    "    ax[0].legend(frameon=False)\n",
    "    ax[0].axhline(0, color='gray', linestyle=':')\n",
    "    ax[0].set_title('Assets')\n",
    "\n",
    "    for i, l in zip(models, labels):\n",
    "        ax[1].plot(a_grid[:amax], np.sum(P[i][:, 0, iz, :amax] * c[i][:, iz, :amax], axis=0), label=l, linewidth=2)\n",
    "    ax[1].set_title('Consumption')\n",
    "\n",
    "    for i, l in zip(models, labels):\n",
    "        ax[2].plot(a_grid[amin:amax], P[i][0, 0, iz, amin:amax], label=l, linewidth=2)\n",
    "    ax[2].set_title('Labor supply (probability)')\n",
    "    \n",
    "    for k in ax:\n",
    "        k.set_xlabel('assets')\n",
    "\n",
    "    plt.tight_layout()\n",
    "    plt.show()"
   ]
  },
  {
   "cell_type": "code",
   "execution_count": 18,
   "metadata": {},
   "outputs": [
    {
     "data": {
      "image/png": "[encoded data removed]",
      "text/plain": [
       "<Figure size 960x320 with 3 Axes>"
      ]
     },
     "metadata": {},
     "output_type": "display_data"
    }
   ],
   "source": [
    "fig1(ss, amax=85, iz=3, figsize=0.8)"
   ]
  },
  {
   "attachments": {},
   "cell_type": "markdown",
   "metadata": {},
   "source": [
    "## 3 Adding search frictions\n",
    "\n",
    "Let's tweak this model by adding search frictions. Let's assume that assume that households can choose employment only if they have an ongoing employment relationship (they were employed last period and have not lost their job) or have received a job offer (they were unemployed last period, and got an offer).\n",
    "\n",
    "How to do this? All we have to do is introducing a new discrete shock stage."
   ]
  },
  {
   "cell_type": "code",
   "execution_count": 19,
   "metadata": {},
   "outputs": [],
   "source": [
    "search_stage = ExogenousMaker(markov_name='e_markov', index=0, name='search')"
   ]
  },
  {
   "attachments": {},
   "cell_type": "markdown",
   "metadata": {},
   "source": [
    "Write a hetinput function that builds the transition matrix for employment shocks."
   ]
  },
  {
   "cell_type": "code",
   "execution_count": 20,
   "metadata": {},
   "outputs": [],
   "source": [
    "def labor_lom(f, s):\n",
    "    e_markov = np.array([[1 - s, s], [f, 1 - f]])\n",
    "    return e_markov"
   ]
  },
  {
   "attachments": {},
   "cell_type": "markdown",
   "metadata": {},
   "source": [
    "We also have to modify to `labsup` stage to implements constraints on labor supply. We can implement this by saying that flow utility from choosing $n=1$ conditional on $n_{-} = 0$ is negative infinity."
   ]
  },
  {
   "cell_type": "code",
   "execution_count": 21,
   "metadata": {},
   "outputs": [],
   "source": [
    "def util_l_search(V, vphi):\n",
    "    # on (n| n)\n",
    "    flow_u = np.array([[-vphi, -np.inf],  # E|E and E|N\n",
    "                       [0, 0]])           # N|E and N|N\n",
    "\n",
    "    # on (n| n, z, a) grid\n",
    "    shape = np.zeros((2, 2,) + V.shape[1:])\n",
    "    flow_u = flow_u[..., np.newaxis, np.newaxis] + shape\n",
    "\n",
    "    return flow_u"
   ]
  },
  {
   "attachments": {},
   "cell_type": "markdown",
   "metadata": {},
   "source": [
    "We're now ready to initialize the stage."
   ]
  },
  {
   "cell_type": "code",
   "execution_count": 22,
   "metadata": {},
   "outputs": [],
   "source": [
    "labsup_search_stage = LogitChoice(value='V', backward='Va', index=0, name='labsup_search',\n",
    "                                  taste_shock_scale='taste_shock', f=util_l_search)"
   ]
  },
  {
   "attachments": {},
   "cell_type": "markdown",
   "metadata": {},
   "source": [
    "Build `StageBlock`."
   ]
  },
  {
   "cell_type": "code",
   "execution_count": 23,
   "metadata": {},
   "outputs": [
    {
     "name": "stdout",
     "output_type": "stream",
     "text": [
      "<StageBlock 'hh2' with stages ['prod', 'search', 'labsup_search', 'consav']>\n",
      "Inputs: ['taste_shock', 'vphi', 'r', 'beta', 'eis', 'rho_z', 'sd_z', 'n_z', 'min_a', 'max_a', 'n_a', 'w', 'f', 's']\n",
      "Outputs: ['A', 'C', 'L']\n"
     ]
    }
   ],
   "source": [
    "hh2 = StageBlock([prod_stage, search_stage, labsup_search_stage, consav_stage], name='hh2',\n",
    "                backward_init=hh_init, hetinputs=[make_grids, labor_income, labor_lom])\n",
    "\n",
    "print(hh2)\n",
    "print(f\"Inputs: {hh2.inputs}\")\n",
    "print(f\"Outputs: {hh2.outputs}\")"
   ]
  },
  {
   "attachments": {},
   "cell_type": "markdown",
   "metadata": {},
   "source": [
    "Include job-finding and separation rates in calibration dicts."
   ]
  },
  {
   "cell_type": "code",
   "execution_count": 24,
   "metadata": {},
   "outputs": [],
   "source": [
    "for i in cali.keys():\n",
    "    cali[i]['f'] = 0.6\n",
    "    cali[i]['s'] = 0.1"
   ]
  },
  {
   "cell_type": "code",
   "execution_count": 25,
   "metadata": {},
   "outputs": [],
   "source": [
    "for i in cali.keys():\n",
    "    ss[i + '_search'] = hh2.steady_state(cali[i])"
   ]
  },
  {
   "attachments": {},
   "cell_type": "markdown",
   "metadata": {},
   "source": [
    "Plot labor supply functions only."
   ]
  },
  {
   "cell_type": "code",
   "execution_count": 26,
   "metadata": {},
   "outputs": [],
   "source": [
    "def fig2(ss, amax=150, iz=3, figsize=0.6):\n",
    "    a_grid = ss['sim_search'].internals['hh2']['a_grid']\n",
    "    P1 = ss['ck'].internals['hh']['labsup']['law_of_motion'].P\n",
    "    P2 = ss['ck_search'].internals['hh2']['labsup_search']['law_of_motion'].P\n",
    "\n",
    "    plt.plot(a_grid[:amax], P1[0, 0, iz, :amax], label='frictionless', linewidth=2)\n",
    "    plt.plot(a_grid[:amax], P2[0, 0, iz, :amax], label='search friction', linewidth=2)\n",
    "    plt.legend(frameon=False)\n",
    "    plt.axhline(0, color='gray', linestyle=':')\n",
    "    plt.title('Labor supply')\n",
    "    plt.xlabel('assets')\n",
    "\n",
    "    plt.tight_layout()\n",
    "    plt.show()"
   ]
  },
  {
   "attachments": {},
   "cell_type": "markdown",
   "metadata": {},
   "source": [
    "Having a job is much more valuable in a world with search frictions."
   ]
  },
  {
   "cell_type": "code",
   "execution_count": 27,
   "metadata": {},
   "outputs": [
    {
     "data": {
      "image/png": "[encoded data removed]",
      "text/plain": [
       "<Figure size 640x480 with 1 Axes>"
      ]
     },
     "metadata": {},
     "output_type": "display_data"
    }
   ],
   "source": [
    "fig2(ss, 110)"
   ]
  },
  {
   "attachments": {},
   "cell_type": "markdown",
   "metadata": {},
   "source": [
    "### Jacobians\n",
    "\n",
    "Disregard this warning. It's triggered by differentiating the discrete choice stage with `-np.inf` in flow utility. We'll turn of this warning in a future patch to the toolkit."
   ]
  },
  {
   "cell_type": "code",
   "execution_count": 28,
   "metadata": {},
   "outputs": [
    {
     "name": "stderr",
     "output_type": "stream",
     "text": [
      "/home/bbardoczy/Projects/sequence-jacobian-private/src/sequence_jacobian/utilities/function.py:118: RuntimeWarning: invalid value encountered in subtract\n"
     ]
    }
   ],
   "source": [
    "J = dict()\n",
    "for i in ['sim', 'ck', 'ck_smooth']:\n",
    "    J[i] = hh.jacobian(ss[i], ['r', 'w'], T=50)\n",
    "    J[i + '_search'] = hh2.jacobian(ss[i  + '_search'], ['f', 's', 'r', 'w'], T=50)"
   ]
  },
  {
   "attachments": {},
   "cell_type": "markdown",
   "metadata": {},
   "source": [
    "Search frictions significantly reduce intertemporal substitution in labor."
   ]
  },
  {
   "cell_type": "code",
   "execution_count": 29,
   "metadata": {},
   "outputs": [
    {
     "data": {
      "image/png": "[encoded data removed]",
      "text/plain": [
       "<Figure size 640x480 with 1 Axes>"
      ]
     },
     "metadata": {},
     "output_type": "display_data"
    }
   ],
   "source": [
    "plt.plot(J['ck_smooth']['L']['w'][:20, 8], label='frictionless')\n",
    "plt.plot(J['ck_smooth_search']['L']['w'][:20, 8], label='w friction')\n",
    "plt.axhline(0, color='gray', linestyle=':')\n",
    "plt.legend()\n",
    "plt.show()"
   ]
  }
 ],
 "metadata": {
  "interpreter": {
   "hash": "f7e7e126bbcef312c96079dca66f9a7bc10277422820b26c18402f41a9adf729"
  },
  "kernelspec": {
   "display_name": "Python 3",
   "language": "python",
   "name": "python3"
  },
  "language_info": {
   "codemirror_mode": {
    "name": "ipython",
    "version": 3
   },
   "file_extension": ".py",
   "mimetype": "text/x-python",
   "name": "python",
   "nbconvert_exporter": "python",
   "pygments_lexer": "ipython3",
   "version": "3.10.9"
  }
 },
 "nbformat": 4,
 "nbformat_minor": 4
}
